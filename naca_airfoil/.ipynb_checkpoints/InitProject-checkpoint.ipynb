{
 "cells": [
  {
   "cell_type": "code",
   "execution_count": 1,
   "metadata": {
    "collapsed": false
   },
   "outputs": [
    {
     "name": "stdout",
     "output_type": "stream",
     "text": [
      "user authorization completed.\n"
     ]
    }
   ],
   "source": [
    "import time, os, sys\n",
    "import inspect\n",
    "from os import environ as env\n",
    "from  novaclient import client\n",
    "import keystoneclient.v3.client as ksclient\n",
    "from keystoneauth1 import loading\n",
    "from keystoneauth1 import session\n",
    "\n",
    "\n",
    "flavor = \"m1.small\" \n",
    "private_net = \"g2015034-net_2\"\n",
    "#floating_ip_pool_name = None\n",
    "#floating_ip = None\n",
    "\n",
    "loader = loading.get_plugin_loader('password')\n",
    "auth = loader.load_from_options(auth_url=env['OS_AUTH_URL'],\n",
    "                                username=env['OS_USERNAME'],\n",
    "                                password=env['OS_PASSWORD'],\n",
    "                                project_name=env['OS_PROJECT_NAME'],\n",
    "                                user_domain_name=env['OS_USER_DOMAIN_NAME'],\n",
    "                                project_domain_name=env['OS_PROJECT_DOMAIN_NAME'])\n",
    "\n",
    "\n",
    "sess = session.Session(auth=auth)\n",
    "nova = client.Client('2.1', session=sess)\n",
    "print \"user authorization completed.\""
   ]
  },
  {
   "cell_type": "code",
   "execution_count": 2,
   "metadata": {
    "collapsed": false
   },
   "outputs": [
    {
     "name": "stdout",
     "output_type": "stream",
     "text": [
      "Getting userdata...\n",
      "Creating broker ... \n",
      "waiting for 10 seconds.. \n",
      "Instance: Grupp3_Broker is in BUILD state, sleeping for 5 seconds more...\n",
      "Instance: Grupp3_Broker is in BUILD state, sleeping for 5 seconds more...\n",
      "Instance: Grupp3_Broker is in ACTIVEstate\n",
      "Attaching IP:\n",
      "130.238.29.187\n",
      "couldn't open port 5672\n"
     ]
    }
   ],
   "source": [
    "import time \n",
    "\n",
    "\n",
    "image = nova.images.find(name=\"Ubuntu-16.04\")\n",
    "flavor = nova.flavors.find(name=\"m1.small\")\n",
    "\n",
    "if private_net != None:\n",
    "    net = nova.networks.find(label=private_net)\n",
    "    nics = [{'net-id': net.id}]\n",
    "else:\n",
    "    sys.exit(\"private-net not defined.\")\n",
    "\n",
    "\n",
    "keypair = nova.keypairs.find(name=\"adamolevallkey\")\n",
    "    \n",
    "print \"Getting userdata...\"\n",
    "ud = open('userdataB.yml', 'r')\n",
    "\n",
    "\n",
    "print \"Creating broker ... \"\n",
    "instance = nova.servers.create(name=\"Grupp3_Broker\", image=image, flavor=flavor, nics=nics, userdata=ud, key_name = keypair.name)\n",
    "inst_status = instance.status\n",
    "print \"waiting for 10 seconds.. \"\n",
    "time.sleep(10)\n",
    "\n",
    "while inst_status == 'BUILD':\n",
    "    print \"Instance: \"+instance.name+\" is in \"+inst_status+\" state, sleeping for 5 seconds more...\"\n",
    "    time.sleep(5)\n",
    "    instance = nova.servers.get(instance.id)\n",
    "    inst_status = instance.status\n",
    "\n",
    "    \n",
    "print \"Instance: \"+ instance.name +\" is in \" + inst_status + \"state\"\n",
    "\n",
    "floating_ip = '130.238.29.187'\n",
    "print \"Attaching IP:\"\n",
    "print floating_ip\n",
    "instance.add_floating_ip(floating_ip)\n",
    "\n",
    "secgroup = nova.security_groups.find(name=\"default\")\n",
    "\n",
    "try:\n",
    "    nova.security_group_rules.create(secgroup.id,\n",
    "                               ip_protocol=\"tcp\",\n",
    "                               from_port=5672,\n",
    "                                to_port=5672)\n",
    "    print \"port 5672 opened\"\n",
    "except:\n",
    "    print \"couldn't open port 5672\""
   ]
  },
  {
   "cell_type": "code",
   "execution_count": 3,
   "metadata": {
    "collapsed": false
   },
   "outputs": [
    {
     "name": "stdout",
     "output_type": "stream",
     "text": [
      "user authorization completed.\n"
     ]
    }
   ],
   "source": [
    "import time, os, sys\n",
    "import inspect\n",
    "from os import environ as env\n",
    "from  novaclient import client\n",
    "import keystoneclient.v3.client as ksclient\n",
    "from keystoneauth1 import loading\n",
    "from keystoneauth1 import session\n",
    "\n",
    "\n",
    "flavor = \"m1.small\" \n",
    "private_net = \"g2015034-net_2\"\n",
    "#floating_ip_pool_name = None\n",
    "#floating_ip = None\n",
    "\n",
    "loader = loading.get_plugin_loader('password')\n",
    "auth = loader.load_from_options(auth_url=env['OS_AUTH_URL'],\n",
    "                                username=env['OS_USERNAME'],\n",
    "                                password=env['OS_PASSWORD'],\n",
    "                                project_name=env['OS_PROJECT_NAME'],\n",
    "                                user_domain_name=env['OS_USER_DOMAIN_NAME'],\n",
    "                                project_domain_name=env['OS_PROJECT_DOMAIN_NAME'])\n",
    "\n",
    "\n",
    "sess = session.Session(auth=auth)\n",
    "nova = client.Client('2.1', session=sess)\n",
    "print \"user authorization completed.\""
   ]
  },
  {
   "cell_type": "code",
   "execution_count": 5,
   "metadata": {
    "collapsed": false
   },
   "outputs": [
    {
     "name": "stdout",
     "output_type": "stream",
     "text": [
      "Getting userdata...\n",
      "Creating server...\n",
      "status: ACTIVE\n",
      "Attaching IP:\n",
      "130.238.29.198\n",
      "Getting userdata...\n",
      "Creating server...\n",
      "status: ACTIVE\n",
      "Attaching IP:\n",
      "130.238.29.192\n"
     ]
    }
   ],
   "source": [
    "import paramiko\n",
    "import time\n",
    "\n",
    "workerIPs = []\n",
    "keypair = nova.keypairs.find(name=\"adamolevallkey\")\n",
    "\n",
    "for x in range(1,3):\n",
    "    \n",
    "    image = nova.images.find(name=\"Ubuntu-16.04\")\n",
    "    flavor = nova.flavors.find(name=\"m1.small\")\n",
    "\n",
    "   \n",
    "    \n",
    "    if private_net != None:\n",
    "        net = nova.networks.find(label=private_net)\n",
    "        nics = [{'net-id': net.id}]\n",
    "    else:\n",
    "        sys.exit(\"private-net not defined.\")\n",
    "\n",
    "   \n",
    "\n",
    "    print \"Getting userdata...\"\n",
    "    ud = open('userdataW.yml', 'r')\n",
    "\n",
    "    print \"Creating server...\"\n",
    "    instance = nova.servers.create(name = \"Group3_Worker\" + str(x), image = image, flavor = flavor,nics=nics, userdata=ud,key_name = keypair.name)\n",
    "\n",
    "    inst_status = instance.status\n",
    "    while inst_status == 'BUILD':\n",
    "        time.sleep(5)\n",
    "        # Retrieve the instance again so the status field updates\n",
    "        instance = nova.servers.get(instance.id)\n",
    "        inst_status = instance.status\n",
    "    print \"status: %s\" % inst_status\n",
    "\n",
    "    floating_ip = ''\n",
    "    while floating_ip == '':\n",
    "        iplist = nova.floating_ips.list()\n",
    "        for ip_obj in iplist:\n",
    "            if ((getattr(ip_obj,'instance_id')) == None):\n",
    "                floating_ip = getattr(ip_obj, 'ip')\n",
    "                workerIPs.append(floating_ip)\n",
    "                break    \n",
    "\n",
    "    print \"Attaching IP:\"\n",
    "    print floating_ip\n",
    "    instance.add_floating_ip(floating_ip)\n",
    "\n",
    "\n",
    "\n"
   ]
  },
  {
   "cell_type": "code",
   "execution_count": null,
   "metadata": {
    "collapsed": true
   },
   "outputs": [],
   "source": []
  }
 ],
 "metadata": {
  "kernelspec": {
   "display_name": "Python 2",
   "language": "python",
   "name": "python2"
  },
  "language_info": {
   "codemirror_mode": {
    "name": "ipython",
    "version": 2
   },
   "file_extension": ".py",
   "mimetype": "text/x-python",
   "name": "python",
   "nbconvert_exporter": "python",
   "pygments_lexer": "ipython2",
   "version": "2.7.10"
  }
 },
 "nbformat": 4,
 "nbformat_minor": 1
}
