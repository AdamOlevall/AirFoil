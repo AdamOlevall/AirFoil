{
 "cells": [
  {
   "cell_type": "code",
   "execution_count": 43,
   "metadata": {
    "collapsed": false
   },
   "outputs": [
    {
     "name": "stdout",
     "output_type": "stream",
     "text": [
      "user authorization completed.\n"
     ]
    }
   ],
   "source": [
    "import time, os, sys\n",
    "import inspect\n",
    "from os import environ as env\n",
    "from  novaclient import client\n",
    "import keystoneclient.v3.client as ksclient\n",
    "from keystoneauth1 import loading\n",
    "from keystoneauth1 import session\n",
    "\n",
    "\n",
    "flavor = \"m1.small\" \n",
    "private_net = \"g2015034-net_2\"\n",
    "#floating_ip_pool_name = None\n",
    "#floating_ip = None\n",
    "\n",
    "loader = loading.get_plugin_loader('password')\n",
    "auth = loader.load_from_options(auth_url=env['OS_AUTH_URL'],\n",
    "                                username=env['OS_USERNAME'],\n",
    "                                password=env['OS_PASSWORD'],\n",
    "                                project_name=env['OS_PROJECT_NAME'],\n",
    "                                user_domain_name=env['OS_USER_DOMAIN_NAME'],\n",
    "                                project_domain_name=env['OS_PROJECT_DOMAIN_NAME'])\n",
    "\n",
    "\n",
    "sess = session.Session(auth=auth)\n",
    "nova = client.Client('2.1', session=sess)\n",
    "print \"user authorization completed.\""
   ]
  },
  {
   "cell_type": "code",
   "execution_count": 45,
   "metadata": {
    "collapsed": false
   },
   "outputs": [
    {
     "ename": "NotFound",
     "evalue": "No Image matching {'name': 'Ubuntu 14.04'}. (HTTP 404)",
     "output_type": "error",
     "traceback": [
      "\u001b[0;31m---------------------------------------------------------------------------\u001b[0m",
      "\u001b[0;31mNotFound\u001b[0m                                  Traceback (most recent call last)",
      "\u001b[0;32m<ipython-input-45-bd2798621bdd>\u001b[0m in \u001b[0;36m<module>\u001b[0;34m()\u001b[0m\n\u001b[1;32m      2\u001b[0m \u001b[0;34m\u001b[0m\u001b[0m\n\u001b[1;32m      3\u001b[0m \u001b[0;34m\u001b[0m\u001b[0m\n\u001b[0;32m----> 4\u001b[0;31m \u001b[0mimage\u001b[0m \u001b[0;34m=\u001b[0m \u001b[0mnova\u001b[0m\u001b[0;34m.\u001b[0m\u001b[0mimages\u001b[0m\u001b[0;34m.\u001b[0m\u001b[0mfind\u001b[0m\u001b[0;34m(\u001b[0m\u001b[0mname\u001b[0m\u001b[0;34m=\u001b[0m\u001b[0;34m\"Ubuntu 14.04\"\u001b[0m\u001b[0;34m)\u001b[0m\u001b[0;34m\u001b[0m\u001b[0m\n\u001b[0m\u001b[1;32m      5\u001b[0m \u001b[0mflavor\u001b[0m \u001b[0;34m=\u001b[0m \u001b[0mnova\u001b[0m\u001b[0;34m.\u001b[0m\u001b[0mflavors\u001b[0m\u001b[0;34m.\u001b[0m\u001b[0mfind\u001b[0m\u001b[0;34m(\u001b[0m\u001b[0mname\u001b[0m\u001b[0;34m=\u001b[0m\u001b[0;34m\"m1.small\"\u001b[0m\u001b[0;34m)\u001b[0m\u001b[0;34m\u001b[0m\u001b[0m\n\u001b[1;32m      6\u001b[0m \u001b[0;34m\u001b[0m\u001b[0m\n",
      "\u001b[0;32m/Library/Python/2.7/site-packages/novaclient/base.pyc\u001b[0m in \u001b[0;36mfind\u001b[0;34m(self, **kwargs)\u001b[0m\n\u001b[1;32m    409\u001b[0m         \u001b[0;32mif\u001b[0m \u001b[0mnum_matches\u001b[0m \u001b[0;34m==\u001b[0m \u001b[0;36m0\u001b[0m\u001b[0;34m:\u001b[0m\u001b[0;34m\u001b[0m\u001b[0m\n\u001b[1;32m    410\u001b[0m             \u001b[0mmsg\u001b[0m \u001b[0;34m=\u001b[0m \u001b[0;34m\"No %s matching %s.\"\u001b[0m \u001b[0;34m%\u001b[0m \u001b[0;34m(\u001b[0m\u001b[0mself\u001b[0m\u001b[0;34m.\u001b[0m\u001b[0mresource_class\u001b[0m\u001b[0;34m.\u001b[0m\u001b[0m__name__\u001b[0m\u001b[0;34m,\u001b[0m \u001b[0mkwargs\u001b[0m\u001b[0;34m)\u001b[0m\u001b[0;34m\u001b[0m\u001b[0m\n\u001b[0;32m--> 411\u001b[0;31m             \u001b[0;32mraise\u001b[0m \u001b[0mexceptions\u001b[0m\u001b[0;34m.\u001b[0m\u001b[0mNotFound\u001b[0m\u001b[0;34m(\u001b[0m\u001b[0;36m404\u001b[0m\u001b[0;34m,\u001b[0m \u001b[0mmsg\u001b[0m\u001b[0;34m)\u001b[0m\u001b[0;34m\u001b[0m\u001b[0m\n\u001b[0m\u001b[1;32m    412\u001b[0m         \u001b[0;32melif\u001b[0m \u001b[0mnum_matches\u001b[0m \u001b[0;34m>\u001b[0m \u001b[0;36m1\u001b[0m\u001b[0;34m:\u001b[0m\u001b[0;34m\u001b[0m\u001b[0m\n\u001b[1;32m    413\u001b[0m             \u001b[0;32mraise\u001b[0m \u001b[0mexceptions\u001b[0m\u001b[0;34m.\u001b[0m\u001b[0mNoUniqueMatch\u001b[0m\u001b[0;34m\u001b[0m\u001b[0m\n",
      "\u001b[0;31mNotFound\u001b[0m: No Image matching {'name': 'Ubuntu 14.04'}. (HTTP 404)"
     ]
    }
   ],
   "source": [
    "import time \n",
    "\n",
    "\n",
    "image = nova.images.find(name=\"ubuntu 14.04\")\n",
    "flavor = nova.flavors.find(name=\"m1.small\")\n",
    "\n",
    "if private_net != None:\n",
    "    net = nova.networks.find(label=private_net)\n",
    "    nics = [{'net-id': net.id}]\n",
    "else:\n",
    "    sys.exit(\"private-net not defined.\")\n",
    "\n",
    "\n",
    "keypair = nova.keypairs.find(name=\"adamolevallkey\")\n",
    "    \n",
    "print \"Getting userdata...\"\n",
    "ud = open('userdataB.yml', 'r')\n",
    "\n",
    "\n",
    "print \"Creating broker ... \"\n",
    "instance = nova.servers.create(name=\"Grupp3_Broker\", image=image, flavor=flavor, nics=nics, userdata=ud, key_name = keypair.name)\n",
    "inst_status = instance.status\n",
    "print \"waiting for 10 seconds.. \"\n",
    "time.sleep(10)\n",
    "\n",
    "while inst_status == 'BUILD':\n",
    "    print \"Instance: \"+instance.name+\" is in \"+inst_status+\" state, sleeping for 5 seconds more...\"\n",
    "    time.sleep(5)\n",
    "    instance = nova.servers.get(instance.id)\n",
    "    inst_status = instance.status\n",
    "\n",
    "    \n",
    "print \"Instance: \"+ instance.name +\" is in \" + inst_status + \"state\"\n",
    "\n",
    "floating_ip = '130.238.29.13'\n",
    "print \"Attaching IP:\"\n",
    "print floating_ip\n",
    "instance.add_floating_ip(floating_ip)\n",
    "\n",
    "secgroup = nova.security_groups.find(name=\"default\")\n",
    "\n",
    "try:\n",
    "    nova.security_group_rules.create(secgroup.id,\n",
    "                               ip_protocol=\"tcp\",\n",
    "                               from_port=5672,\n",
    "                                to_port=5672)\n",
    "    print \"port 5672 opened\"\n",
    "except:\n",
    "    print \"couldn't open port 5672\"\n",
    "    \n",
    "wait_time = 600\n",
    "for i in range(0,(wait_time/10)):\n",
    "    time.sleep(10)\n",
    "    wait_time -= 10\n",
    "    print str(wait_time)+\"s remaining...\""
   ]
  },
  {
   "cell_type": "code",
   "execution_count": 12,
   "metadata": {
    "collapsed": false
   },
   "outputs": [],
   "source": [
    "import os\n",
    "import swiftclient.client\n",
    "\n",
    "config = {'user':os.environ['OS_USERNAME'], \n",
    "          'key':os.environ['OS_PASSWORD'],\n",
    "          'tenant_name':os.environ['OS_TENANT_NAME'],\n",
    "          'authurl':os.environ['OS_AUTH_URL']}\n",
    "\n",
    "conn = swiftclient.client.Connection(auth_version=3, **config)\n"
   ]
  },
  {
   "cell_type": "code",
   "execution_count": 40,
   "metadata": {
    "collapsed": false
   },
   "outputs": [
    {
     "name": "stdout",
     "output_type": "stream",
     "text": [
      "Removing objects from Group3_container\n"
     ]
    }
   ],
   "source": [
    "(response, bucket_list) = conn.get_account()\n",
    "myBuckets = []\n",
    "for bucket in bucket_list:\n",
    "    if 'Group3_container' in bucket['name']:\n",
    "        myBuckets.append(bucket['name'])\n",
    "  \n",
    "\n",
    " #Remove all containers\n",
    "for bName in myBuckets:\n",
    "    # Clean up container in Swift\n",
    "    (r, obj_list) = conn.get_container(bName)\n",
    "    print 'Removing objects from ' + bName\n",
    "    # Delete all objects\n",
    "    for obj in obj_list:\n",
    "        conn.delete_object(bName, obj['name']) \n",
    "    # Delete container\n",
    "    #print 'Deleteing container: ' + bName\n",
    "    #conn.delete_container(bName)"
   ]
  },
  {
   "cell_type": "code",
   "execution_count": 41,
   "metadata": {
    "collapsed": false
   },
   "outputs": [],
   "source": [
    "(respons, objects) = conn.get_container('Group3_container')\n",
    "for object in objects:\n",
    "    print object['name']"
   ]
  },
  {
   "cell_type": "code",
   "execution_count": 12,
   "metadata": {
    "collapsed": false
   },
   "outputs": [
    {
     "name": "stdout",
     "output_type": "stream",
     "text": [
      "user authorization completed.\n"
     ]
    }
   ],
   "source": [
    "import time, os, sys\n",
    "import inspect\n",
    "from os import environ as env\n",
    "from  novaclient import client\n",
    "import keystoneclient.v3.client as ksclient\n",
    "from keystoneauth1 import loading\n",
    "from keystoneauth1 import session\n",
    "\n",
    "\n",
    "flavor = \"m1.small\" \n",
    "private_net = \"g2015034-net_2\"\n",
    "#floating_ip_pool_name = None\n",
    "#floating_ip = None\n",
    "\n",
    "loader = loading.get_plugin_loader('password')\n",
    "auth = loader.load_from_options(auth_url=env['OS_AUTH_URL'],\n",
    "                                username=env['OS_USERNAME'],\n",
    "                                password=env['OS_PASSWORD'],\n",
    "                                project_name=env['OS_PROJECT_NAME'],\n",
    "                                user_domain_name=env['OS_USER_DOMAIN_NAME'],\n",
    "                                project_domain_name=env['OS_PROJECT_DOMAIN_NAME'])\n",
    "\n",
    "\n",
    "sess = session.Session(auth=auth)\n",
    "nova = client.Client('2.1', session=sess)\n",
    "print \"user authorization completed.\""
   ]
  },
  {
   "cell_type": "code",
   "execution_count": null,
   "metadata": {
    "collapsed": true
   },
   "outputs": [],
   "source": []
  },
  {
   "cell_type": "code",
   "execution_count": 14,
   "metadata": {
    "collapsed": false
   },
   "outputs": [
    {
     "name": "stdout",
     "output_type": "stream",
     "text": [
      "Getting userdata...\n",
      "Creating server...\n",
      "status: ACTIVE\n",
      "Attaching IP:\n",
      "130.238.29.46\n"
     ]
    }
   ],
   "source": [
    "import paramiko\n",
    "import time\n",
    "\n",
    "workerIPs = []\n",
    "keypair = nova.keypairs.find(name=\"adamolevallkey\")\n",
    "\n",
    "for x in range(3,4):\n",
    "    \n",
    "    image = nova.images.find(name=\"Ubuntu-16.04\")\n",
    "    flavor = nova.flavors.find(name=\"m1.small\")\n",
    "\n",
    "   \n",
    "    \n",
    "    if private_net != None:\n",
    "        net = nova.networks.find(label=private_net)\n",
    "        nics = [{'net-id': net.id}]\n",
    "    else:\n",
    "        sys.exit(\"private-net not defined.\")\n",
    "\n",
    "   \n",
    "\n",
    "    print \"Getting userdata...\"\n",
    "    ud = open('userdataW.yml', 'r')\n",
    "\n",
    "    print \"Creating server...\"\n",
    "    instance = nova.servers.create(name = \"Group3_Worker\" + str(x), image = image, flavor = flavor,nics=nics, userdata=ud,key_name = keypair.name)\n",
    "\n",
    "    inst_status = instance.status\n",
    "    while inst_status == 'BUILD':\n",
    "        time.sleep(5)\n",
    "        # Retrieve the instance again so the status field updates\n",
    "        instance = nova.servers.get(instance.id)\n",
    "        inst_status = instance.status\n",
    "    print \"status: %s\" % inst_status\n",
    "\n",
    "    floating_ip = ''\n",
    "    while floating_ip == '':\n",
    "        iplist = nova.floating_ips.list()\n",
    "        for ip_obj in iplist:\n",
    "            if ((getattr(ip_obj,'instance_id')) == None):\n",
    "                floating_ip = getattr(ip_obj, 'ip')\n",
    "                workerIPs.append(floating_ip)\n",
    "                break    \n",
    "\n",
    "    print \"Attaching IP:\"\n",
    "    print floating_ip\n",
    "    instance.add_floating_ip(floating_ip)\n",
    "\n",
    "\n",
    "\n"
   ]
  },
  {
   "cell_type": "code",
   "execution_count": null,
   "metadata": {
    "collapsed": true
   },
   "outputs": [],
   "source": []
  }
 ],
 "metadata": {
  "kernelspec": {
   "display_name": "Python 2",
   "language": "python",
   "name": "python2"
  },
  "language_info": {
   "codemirror_mode": {
    "name": "ipython",
    "version": 2
   },
   "file_extension": ".py",
   "mimetype": "text/x-python",
   "name": "python",
   "nbconvert_exporter": "python",
   "pygments_lexer": "ipython2",
   "version": "2.7.10"
  }
 },
 "nbformat": 4,
 "nbformat_minor": 1
}
